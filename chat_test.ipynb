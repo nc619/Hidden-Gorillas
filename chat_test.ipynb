{
 "cells": [
  {
   "cell_type": "code",
   "execution_count": 1,
   "metadata": {},
   "outputs": [],
   "source": [
    "from cg_fncs import Patient\n",
    "from medchat import MedChat"
   ]
  },
  {
   "cell_type": "code",
   "execution_count": 2,
   "metadata": {},
   "outputs": [
    {
     "data": {
      "text/plain": [
       "<Patient.Patient at 0x1217af010>"
      ]
     },
     "execution_count": 2,
     "metadata": {},
     "output_type": "execute_result"
    }
   ],
   "source": [
    "test_patient = Patient(\n",
    "    age=\"26\",\n",
    "    gender=\"Female\",\n",
    "    primary=\"Pleural effusion\",\n",
    "    secondary=[\"Lung nodules\"],\n",
    "    location=\"Chest\",\n",
    "    modality=\"X-ray\"\n",
    ")\n",
    "\n",
    "test_patient"
   ]
  },
  {
   "cell_type": "code",
   "execution_count": 3,
   "metadata": {},
   "outputs": [],
   "source": [
    "chat = MedChat(test_patient)"
   ]
  },
  {
   "cell_type": "code",
   "execution_count": 4,
   "metadata": {},
   "outputs": [
    {
     "data": {
      "text/plain": [
       "\"Alias is a 26-year old woman who has been having a really tough time with shortness of breath recently. She also has a constant dull ache on the side of her chest, which worsens when she coughs or takes a deep breath. She recounts that it's been a month since the cough started out with a fever. Today she consults a physician who advises her to get a chest X-ray done.\""
      ]
     },
     "execution_count": 4,
     "metadata": {},
     "output_type": "execute_result"
    }
   ],
   "source": [
    "chat.scenario"
   ]
  },
  {
   "cell_type": "code",
   "execution_count": 5,
   "metadata": {},
   "outputs": [
    {
     "data": {
      "text/plain": [
       "\"That's alright, let's take it step by step. Apart from the shortness of breath, she has been experiencing a chest pain, a cough and had a fever a month ago. The pain intensifies when she coughs or takes deep breaths. What do you think could be her health issue?\""
      ]
     },
     "execution_count": 5,
     "metadata": {},
     "output_type": "execute_result"
    }
   ],
   "source": [
    "chat.chat_to_gpt(\"I don't know\")"
   ]
  },
  {
   "cell_type": "code",
   "execution_count": 6,
   "metadata": {},
   "outputs": [
    {
     "data": {
      "text/plain": [
       "\"Let's be more specific. In the chest X-ray, look for any abnormal build-up of fluid between the layers of tissue that line the lungs and chest cavity. This image might show this fluid as areas of white intensity. What picture does this information paint for you?\""
      ]
     },
     "execution_count": 6,
     "metadata": {},
     "output_type": "execute_result"
    }
   ],
   "source": [
    "chat.chat_to_gpt(\"something disease\")"
   ]
  },
  {
   "cell_type": "code",
   "execution_count": 7,
   "metadata": {},
   "outputs": [
    {
     "data": {
      "text/plain": [
       "\"<primary correct> Pleural effusion is the correct answer. The symptoms and the image indications all point toward this condition, where there is an abnormal accumulation of fluid in the pleural space between the lung and the chest wall. Let's move to the next stage to identify any potential incidental findings.\""
      ]
     },
     "execution_count": 7,
     "metadata": {},
     "output_type": "execute_result"
    }
   ],
   "source": [
    "chat.chat_to_gpt(\"broken rib\")"
   ]
  },
  {
   "cell_type": "code",
   "execution_count": 8,
   "metadata": {},
   "outputs": [
    {
     "data": {
      "text/plain": [
       "\"That's alright. Let's try this approach: Notice any small round abnormalities in the lung area in the chest X-ray image. These are often incidental findings and can be missed during a routine check-up for different symptoms. What do you think these might be?\""
      ]
     },
     "execution_count": 8,
     "metadata": {},
     "output_type": "execute_result"
    }
   ],
   "source": [
    "chat.chat_to_gpt(\"I didn't realise there were any other ailments\")"
   ]
  },
  {
   "cell_type": "code",
   "execution_count": 9,
   "metadata": {},
   "outputs": [
    {
     "data": {
      "text/plain": [
       "'Cancer is a broad term. In this image, you would be looking for small, round growths in the lungs. Based on the information given, what do you think these growths might be called?'"
      ]
     },
     "execution_count": 9,
     "metadata": {},
     "output_type": "execute_result"
    }
   ],
   "source": [
    "chat.chat_to_gpt(\"oh it's some sort of cancer?\")"
   ]
  },
  {
   "cell_type": "code",
   "execution_count": 10,
   "metadata": {},
   "outputs": [
    {
     "data": {
      "text/plain": [
       "\"<incidental correct> Lung nodules, indeed. The treatment really depends on the cause of the nodules. Small, noncancerous nodules may not require immediate treatment but will still need to be monitored. If the nodules are larger or if they appear to be cancerous, treatments can range from surgery to remove the nodule or the entire lung portion, radiation therapy, or chemotherapy. It's always best to consult with a medical professional to understand the options and pick the one that's most suitable.\""
      ]
     },
     "execution_count": 10,
     "metadata": {},
     "output_type": "execute_result"
    }
   ],
   "source": [
    "chat.chat_to_gpt(\"lung nodules? What would be the treatment for these?\")"
   ]
  }
 ],
 "metadata": {
  "kernelspec": {
   "display_name": "generative",
   "language": "python",
   "name": "python3"
  },
  "language_info": {
   "codemirror_mode": {
    "name": "ipython",
    "version": 3
   },
   "file_extension": ".py",
   "mimetype": "text/x-python",
   "name": "python",
   "nbconvert_exporter": "python",
   "pygments_lexer": "ipython3",
   "version": "3.10.13"
  },
  "orig_nbformat": 4
 },
 "nbformat": 4,
 "nbformat_minor": 2
}
